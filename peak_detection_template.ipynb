{
 "cells": [
  {
   "cell_type": "markdown",
   "id": "708e7e45",
   "metadata": {},
   "source": [
    "# Experiments in Peak Detection\n"
   ]
  },
  {
   "cell_type": "code",
   "id": "c9de8e80",
   "metadata": {
    "ExecuteTime": {
     "end_time": "2025-06-15T04:56:08.564127Z",
     "start_time": "2025-06-15T04:56:08.561179Z"
    }
   },
   "source": [
    "from img_to_array import img_to_array\n",
    "import numpy as np\n",
    "import matplotlib.pyplot as plt\n",
    "%matplotlib inline\n",
    "np.set_printoptions(precision=3)\n",
    "\n",
    "# print the current time\n",
    "\n"
   ],
   "outputs": [],
   "execution_count": 8
  },
  {
   "cell_type": "markdown",
   "id": "5cdffdfe",
   "metadata": {},
   "source": [
    "# Let Us Do This\n",
    "\n"
   ]
  },
  {
   "cell_type": "code",
   "id": "5af3fa01",
   "metadata": {
    "ExecuteTime": {
     "end_time": "2025-06-15T04:56:08.596115Z",
     "start_time": "2025-06-15T04:56:08.574969Z"
    }
   },
   "source": [
    "y_values = img_to_array(\n",
    "    \"img/climb.png\",\n",
    "    num_points=25,\n",
    ")\n",
    "print(y_values.shape)  # -> (1000,)\n",
    "print(y_values)  # uncomment to dump all 1,000 values\n"
   ],
   "outputs": [
    {
     "name": "stdout",
     "output_type": "stream",
     "text": [
      "(25,)\n",
      "[0.059 0.104 0.138 0.174 0.184 0.188 0.208 0.242 0.28  0.326 0.376 0.434\n",
      " 0.473 0.472 0.593 0.652 0.66  0.597 0.611 0.686 0.749 0.662 0.891 0.986\n",
      " 0.819]\n"
     ]
    }
   ],
   "execution_count": 9
  },
  {
   "metadata": {
    "ExecuteTime": {
     "end_time": "2025-06-15T04:56:08.607440Z",
     "start_time": "2025-06-15T04:56:08.605291Z"
    }
   },
   "cell_type": "code",
   "source": "print(a)",
   "id": "e85021f70ac1605b",
   "outputs": [
    {
     "name": "stdout",
     "output_type": "stream",
     "text": [
      "42\n"
     ]
    }
   ],
   "execution_count": 10
  },
  {
   "metadata": {
    "ExecuteTime": {
     "end_time": "2025-06-15T04:56:08.644494Z",
     "start_time": "2025-06-15T04:56:08.642886Z"
    }
   },
   "cell_type": "code",
   "source": "",
   "id": "3be5bd8b1be3d423",
   "outputs": [],
   "execution_count": null
  }
 ],
 "metadata": {
  "kernelspec": {
   "display_name": ".venv",
   "language": "python",
   "name": "python3"
  },
  "language_info": {
   "codemirror_mode": {
    "name": "ipython",
    "version": 3
   },
   "file_extension": ".py",
   "mimetype": "text/x-python",
   "name": "python",
   "nbconvert_exporter": "python",
   "pygments_lexer": "ipython3",
   "version": "3.13.2"
  }
 },
 "nbformat": 4,
 "nbformat_minor": 5
}
